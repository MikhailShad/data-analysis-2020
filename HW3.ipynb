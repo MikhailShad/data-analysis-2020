{
 "cells": [
  {
   "cell_type": "markdown",
   "metadata": {},
   "source": [
    "# Homework 3. Mikhail Shadrin\n",
    "\n",
    "### Task 1. Chi-square test. Use data_games.dta file.\n",
    "\n",
    "**1.1.** Analyze the relationship between **payment_type** and **payment_method** using Chi-square statistical test. Is the Chi-square test applicable for this pair of variables? If yes, formulate hypotheses, interpret the results of analysis and make conclusions. Create a suitable graph to demonstrate the relationship between these two variables."
   ]
  },
  {
   "cell_type": "code",
   "execution_count": 1,
   "metadata": {
    "scrolled": true
   },
   "outputs": [
    {
     "data": {
      "text/html": [
       "<div>\n",
       "<style scoped>\n",
       "    .dataframe tbody tr th:only-of-type {\n",
       "        vertical-align: middle;\n",
       "    }\n",
       "\n",
       "    .dataframe tbody tr th {\n",
       "        vertical-align: top;\n",
       "    }\n",
       "\n",
       "    .dataframe thead th {\n",
       "        text-align: right;\n",
       "    }\n",
       "</style>\n",
       "<table border=\"1\" class=\"dataframe\">\n",
       "  <thead>\n",
       "    <tr style=\"text-align: right;\">\n",
       "      <th></th>\n",
       "      <th>id</th>\n",
       "      <th>pack_id</th>\n",
       "      <th>crystalls_balance_before_buy</th>\n",
       "      <th>crystalls_bought</th>\n",
       "      <th>country</th>\n",
       "      <th>payment</th>\n",
       "      <th>utc_timestamp</th>\n",
       "      <th>payment_type</th>\n",
       "      <th>payment_method</th>\n",
       "    </tr>\n",
       "  </thead>\n",
       "  <tbody>\n",
       "    <tr>\n",
       "      <td>0</td>\n",
       "      <td>2.052791e+09</td>\n",
       "      <td>3.0</td>\n",
       "      <td>0.0</td>\n",
       "      <td>41.0</td>\n",
       "      <td>GB</td>\n",
       "      <td>644.0</td>\n",
       "      <td>1.414842e+09</td>\n",
       "      <td>offer</td>\n",
       "      <td>general</td>\n",
       "    </tr>\n",
       "    <tr>\n",
       "      <td>1</td>\n",
       "      <td>1.275033e+09</td>\n",
       "      <td>1.0</td>\n",
       "      <td>10.0</td>\n",
       "      <td>7.0</td>\n",
       "      <td>US</td>\n",
       "      <td>205.0</td>\n",
       "      <td>1.414814e+09</td>\n",
       "      <td>offer</td>\n",
       "      <td>general</td>\n",
       "    </tr>\n",
       "    <tr>\n",
       "      <td>2</td>\n",
       "      <td>2.000015e+14</td>\n",
       "      <td>2.0</td>\n",
       "      <td>2.0</td>\n",
       "      <td>14.0</td>\n",
       "      <td>US</td>\n",
       "      <td>514.0</td>\n",
       "      <td>1.414866e+09</td>\n",
       "      <td>regular</td>\n",
       "      <td>general</td>\n",
       "    </tr>\n",
       "    <tr>\n",
       "      <td>3</td>\n",
       "      <td>1.119068e+09</td>\n",
       "      <td>4.0</td>\n",
       "      <td>0.0</td>\n",
       "      <td>70.0</td>\n",
       "      <td>GB</td>\n",
       "      <td>1289.0</td>\n",
       "      <td>1.414917e+09</td>\n",
       "      <td>regular</td>\n",
       "      <td>general</td>\n",
       "    </tr>\n",
       "    <tr>\n",
       "      <td>4</td>\n",
       "      <td>2.000028e+14</td>\n",
       "      <td>3.0</td>\n",
       "      <td>0.0</td>\n",
       "      <td>30.0</td>\n",
       "      <td>US</td>\n",
       "      <td>1029.0</td>\n",
       "      <td>1.414946e+09</td>\n",
       "      <td>regular</td>\n",
       "      <td>general</td>\n",
       "    </tr>\n",
       "    <tr>\n",
       "      <td>...</td>\n",
       "      <td>...</td>\n",
       "      <td>...</td>\n",
       "      <td>...</td>\n",
       "      <td>...</td>\n",
       "      <td>...</td>\n",
       "      <td>...</td>\n",
       "      <td>...</td>\n",
       "      <td>...</td>\n",
       "      <td>...</td>\n",
       "    </tr>\n",
       "    <tr>\n",
       "      <td>105502</td>\n",
       "      <td>2.733727e+09</td>\n",
       "      <td>5.0</td>\n",
       "      <td>89.0</td>\n",
       "      <td>180.0</td>\n",
       "      <td>US</td>\n",
       "      <td>3088.0</td>\n",
       "      <td>1.417208e+09</td>\n",
       "      <td>offer</td>\n",
       "      <td>general</td>\n",
       "    </tr>\n",
       "    <tr>\n",
       "      <td>105503</td>\n",
       "      <td>3.292330e+09</td>\n",
       "      <td>6.0</td>\n",
       "      <td>190.0</td>\n",
       "      <td>210.0</td>\n",
       "      <td>US</td>\n",
       "      <td>5147.0</td>\n",
       "      <td>1.417295e+09</td>\n",
       "      <td>regular</td>\n",
       "      <td>general</td>\n",
       "    </tr>\n",
       "    <tr>\n",
       "      <td>105504</td>\n",
       "      <td>2.000062e+14</td>\n",
       "      <td>1.0</td>\n",
       "      <td>0.0</td>\n",
       "      <td>8.0</td>\n",
       "      <td>FR</td>\n",
       "      <td>205.0</td>\n",
       "      <td>1.417267e+09</td>\n",
       "      <td>offer</td>\n",
       "      <td>general</td>\n",
       "    </tr>\n",
       "    <tr>\n",
       "      <td>105505</td>\n",
       "      <td>2.000002e+14</td>\n",
       "      <td>2.0</td>\n",
       "      <td>1.0</td>\n",
       "      <td>14.0</td>\n",
       "      <td>DK</td>\n",
       "      <td>553.0</td>\n",
       "      <td>1.417314e+09</td>\n",
       "      <td>regular</td>\n",
       "      <td>general</td>\n",
       "    </tr>\n",
       "    <tr>\n",
       "      <td>105506</td>\n",
       "      <td>1.332378e+15</td>\n",
       "      <td>1.0</td>\n",
       "      <td>0.0</td>\n",
       "      <td>5.0</td>\n",
       "      <td>DE</td>\n",
       "      <td>205.0</td>\n",
       "      <td>1.417383e+09</td>\n",
       "      <td>regular</td>\n",
       "      <td>general</td>\n",
       "    </tr>\n",
       "  </tbody>\n",
       "</table>\n",
       "<p>105507 rows × 9 columns</p>\n",
       "</div>"
      ],
      "text/plain": [
       "                  id  pack_id  crystalls_balance_before_buy  crystalls_bought  \\\n",
       "0       2.052791e+09      3.0                           0.0              41.0   \n",
       "1       1.275033e+09      1.0                          10.0               7.0   \n",
       "2       2.000015e+14      2.0                           2.0              14.0   \n",
       "3       1.119068e+09      4.0                           0.0              70.0   \n",
       "4       2.000028e+14      3.0                           0.0              30.0   \n",
       "...              ...      ...                           ...               ...   \n",
       "105502  2.733727e+09      5.0                          89.0             180.0   \n",
       "105503  3.292330e+09      6.0                         190.0             210.0   \n",
       "105504  2.000062e+14      1.0                           0.0               8.0   \n",
       "105505  2.000002e+14      2.0                           1.0              14.0   \n",
       "105506  1.332378e+15      1.0                           0.0               5.0   \n",
       "\n",
       "       country  payment  utc_timestamp payment_type payment_method  \n",
       "0           GB    644.0   1.414842e+09        offer        general  \n",
       "1           US    205.0   1.414814e+09        offer        general  \n",
       "2           US    514.0   1.414866e+09      regular        general  \n",
       "3           GB   1289.0   1.414917e+09      regular        general  \n",
       "4           US   1029.0   1.414946e+09      regular        general  \n",
       "...        ...      ...            ...          ...            ...  \n",
       "105502      US   3088.0   1.417208e+09        offer        general  \n",
       "105503      US   5147.0   1.417295e+09      regular        general  \n",
       "105504      FR    205.0   1.417267e+09        offer        general  \n",
       "105505      DK    553.0   1.417314e+09      regular        general  \n",
       "105506      DE    205.0   1.417383e+09      regular        general  \n",
       "\n",
       "[105507 rows x 9 columns]"
      ]
     },
     "execution_count": 1,
     "metadata": {},
     "output_type": "execute_result"
    }
   ],
   "source": [
    "import pandas as pd\n",
    "\n",
    "data = pd.read_stata(\"data/data_games.dta\")\n",
    "data"
   ]
  },
  {
   "cell_type": "markdown",
   "metadata": {},
   "source": [
    "To test whether variables `payment_type` and `payment_method` are associated we define the following hypothesis:\n",
    "\n",
    "**H0:** The variables `payment_type` and `payment_method` are **independent**\n",
    "\n",
    "**H1:** The variables `payment_type` and `payment_method` are **not independent**\n",
    "\n",
    "We also choose a significance level $\\alpha$ **= 0.05**"
   ]
  },
  {
   "cell_type": "code",
   "execution_count": 2,
   "metadata": {
    "scrolled": true
   },
   "outputs": [
    {
     "name": "stdout",
     "output_type": "stream",
     "text": [
      "Payment type distinct values:\n",
      "regular    91668\n",
      "offer      13839\n",
      "Name: payment_type, dtype: int64\n",
      "\n",
      "Payment method distinct values:\n",
      "general         103278\n",
      "mobile            1673\n",
      "fb_promotion       498\n",
      "giftcard            58\n",
      "Name: payment_method, dtype: int64\n"
     ]
    }
   ],
   "source": [
    "print(\"Payment type distinct values:\\n{}\\n\".format(data.payment_type.value_counts()))\n",
    "print(\"Payment method distinct values:\\n{}\".format(data.payment_method.value_counts()))"
   ]
  },
  {
   "cell_type": "code",
   "execution_count": 3,
   "metadata": {},
   "outputs": [
    {
     "data": {
      "text/html": [
       "<div>\n",
       "<style scoped>\n",
       "    .dataframe tbody tr th:only-of-type {\n",
       "        vertical-align: middle;\n",
       "    }\n",
       "\n",
       "    .dataframe tbody tr th {\n",
       "        vertical-align: top;\n",
       "    }\n",
       "\n",
       "    .dataframe thead th {\n",
       "        text-align: right;\n",
       "    }\n",
       "</style>\n",
       "<table border=\"1\" class=\"dataframe\">\n",
       "  <thead>\n",
       "    <tr style=\"text-align: right;\">\n",
       "      <th>payment_method</th>\n",
       "      <th>fb_promotion</th>\n",
       "      <th>general</th>\n",
       "      <th>giftcard</th>\n",
       "      <th>mobile</th>\n",
       "    </tr>\n",
       "    <tr>\n",
       "      <th>payment_type</th>\n",
       "      <th></th>\n",
       "      <th></th>\n",
       "      <th></th>\n",
       "      <th></th>\n",
       "    </tr>\n",
       "  </thead>\n",
       "  <tbody>\n",
       "    <tr>\n",
       "      <td>offer</td>\n",
       "      <td>0</td>\n",
       "      <td>13538</td>\n",
       "      <td>0</td>\n",
       "      <td>301</td>\n",
       "    </tr>\n",
       "    <tr>\n",
       "      <td>regular</td>\n",
       "      <td>498</td>\n",
       "      <td>89740</td>\n",
       "      <td>58</td>\n",
       "      <td>1372</td>\n",
       "    </tr>\n",
       "  </tbody>\n",
       "</table>\n",
       "</div>"
      ],
      "text/plain": [
       "payment_method  fb_promotion  general  giftcard  mobile\n",
       "payment_type                                           \n",
       "offer                      0    13538         0     301\n",
       "regular                  498    89740        58    1372"
      ]
     },
     "execution_count": 3,
     "metadata": {},
     "output_type": "execute_result"
    }
   ],
   "source": [
    "tab = pd.crosstab(data.payment_type, data.payment_method)\n",
    "tab"
   ]
  },
  {
   "cell_type": "markdown",
   "metadata": {},
   "source": [
    "Since the number of dimensions for the table is 2, we can apply Chi^2 test"
   ]
  },
  {
   "cell_type": "code",
   "execution_count": 4,
   "metadata": {},
   "outputs": [
    {
     "name": "stdout",
     "output_type": "stream",
     "text": [
      "Significance=0.05, p-value=1.3763184420685322e-25\n",
      "Variables are not independent. Reject H0. Accept H1\n"
     ]
    }
   ],
   "source": [
    "from scipy.stats import chi2_contingency\n",
    "\n",
    "alpha = 0.05\n",
    "stat, p_value, dof, expected = chi2_contingency(tab)\n",
    "print('Significance={}, p-value={}'.format(alpha, p_value))\n",
    "\n",
    "if p_value <= alpha:\n",
    "    print('Variables are not independent. Reject H0. Accept H1')\n",
    "else:\n",
    "    print('Variables are independent. Do not reject H0')"
   ]
  },
  {
   "cell_type": "code",
   "execution_count": 5,
   "metadata": {},
   "outputs": [
    {
     "data": {
      "text/plain": [
       "<matplotlib.axes._subplots.AxesSubplot at 0x1caafde16c8>"
      ]
     },
     "execution_count": 5,
     "metadata": {},
     "output_type": "execute_result"
    }
   ],
   "source": [
    "import matplotlib.pyplot as plt\n",
    "\n",
    "tab.plot.bar(log=True)"
   ]
  },
  {
   "cell_type": "markdown",
   "metadata": {},
   "source": [
    "We can see that these variables are slightly associated in terms of absence of `fb_promotion` and `giftcard` payment types for `offer` payment method\n",
    "\n",
    "**1.2.** Analyze the relationship between **payment_type** and **crystalls_balance_before_buy** using Chi-square statistical test. Is the Chi-square test applicable for this pair of variables? If yes, formulate hypotheses, interpret the results of analysis and make conclusions. Create a suitable graph to demonstrate the relationship between these two variables.\n",
    "\n",
    "The Chi-square cannot be applied since the variables are numeric and categorical.\n",
    "\n",
    "---\n",
    "\n",
    "### Task 2. Scatterplot. Normality test. Correlation. Use data_games.dta file.\n",
    "\n",
    "**2.1.** Create a scatterplot between **crystalls_balance_before_buy** and **payment**. Copy the scatterplot into this file."
   ]
  },
  {
   "cell_type": "code",
   "execution_count": 6,
   "metadata": {},
   "outputs": [
    {
     "data": {
      "image/png": "[encoded data removed]",
      "text/plain": [
       "<Figure size 432x288 with 1 Axes>"
      ]
     },
     "metadata": {
      "needs_background": "light"
     },
     "output_type": "display_data"
    }
   ],
   "source": [
    "plt.scatter(data.crystalls_balance_before_buy, data.payment,  alpha = 0.5)\n",
    "plt.show()"
   ]
  },
  {
   "cell_type": "markdown",
   "metadata": {},
   "source": [
    "**2.2.** Run the suitable normality test to conclude whether the distribution of **payment** variable is significantly different from the normal. Formulate hypothesis. Make conclusions.\n",
    "\n",
    "According to resluts in task 1.1 the sample's size equals to 105507, which is much greater than 100.\n",
    "Since, _Shapiro-Wilks test_ is not suitable, _Kolmogorov-Smirnov_ normality test is applicable.\n",
    "\n",
    "We define the following hypothesis:\n",
    "\n",
    "H0: Distribution of variable `payment` is **not significantly different** from normal distribution.\n",
    "\n",
    "H1: Distribution of variable `payment` is **significantly different** from normal distribution."
   ]
  },
  {
   "cell_type": "code",
   "execution_count": 7,
   "metadata": {},
   "outputs": [
    {
     "name": "stdout",
     "output_type": "stream",
     "text": [
      "p-value: 0.0\n",
      "Reject H0. Distribution of variable payment is significantly different from normal distribution\n"
     ]
    }
   ],
   "source": [
    "from scipy.stats import kstest\n",
    "\n",
    "alpha = 0.05\n",
    "p_value = kstest(data.payment, 'norm').pvalue\n",
    "print('p-value: {}'.format(p_value))\n",
    "\n",
    "if p_value <= alpha:\n",
    "    print('Reject H0. Distribution of variable payment is significantly different from normal distribution')\n",
    "else:\n",
    "    print('Do not reject H0. Distribution of variable payment is not significantly different from normal distribution')"
   ]
  },
  {
   "cell_type": "markdown",
   "metadata": {},
   "source": [
    "Calculate an appropriate correlation coefficient between three pairs of variables. Fill in the table below. Interpret the results.\n",
    "\n",
    "\n",
    "| Variables | Type of the appropriate correlation coefficient | Hypotheses | Strength of the relationship | Direction of the relationship | Significance of the relationship |\n",
    "|:---|:---:|:---:|:---:|:---:|:---:|\n",
    "| crystalls_balance_before_buy and payment | Spearman | H0: variables are independent | Very weak | Positive | 0.01 |\n",
    "| crystalls_balance_before_buy and crystalls_bought | Kendall | H0: variables are independent | Very weak | Positive | 0.01 |\n",
    "| crystalls_bought and payment | Pearson | H0: variables are independent | Strong | Positive | 0.01 |"
   ]
  },
  {
   "cell_type": "code",
   "execution_count": 8,
   "metadata": {},
   "outputs": [
    {
     "name": "stdout",
     "output_type": "stream",
     "text": [
      "<matplotlib.collections.PathCollection object at 0x000001CAB054DA08>\n"
     ]
    },
    {
     "data": {
      "image/png": "[encoded data removed]",
      "text/plain": [
       "<Figure size 432x288 with 1 Axes>"
      ]
     },
     "metadata": {
      "needs_background": "light"
     },
     "output_type": "display_data"
    }
   ],
   "source": [
    "print(plt.scatter(data.crystalls_balance_before_buy, data.crystalls_bought, alpha = 0.5))"
   ]
  },
  {
   "cell_type": "code",
   "execution_count": 9,
   "metadata": {},
   "outputs": [
    {
     "name": "stdout",
     "output_type": "stream",
     "text": [
      "<matplotlib.collections.PathCollection object at 0x000001CAB07EF948>\n"
     ]
    },
    {
     "data": {
      "image/png": "[encoded data removed]",
      "text/plain": [
       "<Figure size 432x288 with 1 Axes>"
      ]
     },
     "metadata": {
      "needs_background": "light"
     },
     "output_type": "display_data"
    }
   ],
   "source": [
    "print(plt.scatter(data.crystalls_bought, data.payment, alpha = 0.5))"
   ]
  },
  {
   "cell_type": "markdown",
   "metadata": {},
   "source": [
    "From the plots above we can see:\n",
    "\n",
    "- `crystalls_balance_before_buy` and `payment` are distributed ordinarly and have significant number of ranks, so **Spearman's** correlation can be applied for this case\n",
    "- `crystalls_balance_before_buy` and `crystalls_bought` are distributed ordinarly and ranks are tied closely, so **Kendalls's** correlation can be applied for this case\n",
    "- `crystalls_bought` and `payment` are distributed ordinarly, but the number of ranks is quite the same, moreover, we can see some kind of linear relation, so the **Pearson's** correlation can be applied for this case"
   ]
  },
  {
   "cell_type": "code",
   "execution_count": 10,
   "metadata": {},
   "outputs": [
    {
     "name": "stdout",
     "output_type": "stream",
     "text": [
      "Spearman corr = 0.1457859347733024, p-value = 0.0\n",
      "Kendal corr = 0.11117243493392964, p-value = 0.0\n",
      "Pearson corr = 0.85114580317308, p-value = 0.0\n"
     ]
    }
   ],
   "source": [
    "from scipy.stats import pearsonr, spearmanr, kendalltau\n",
    "\n",
    "spear = spearmanr(data.crystalls_balance_before_buy, data.payment)\n",
    "kendal = kendalltau(data.crystalls_balance_before_buy, data.crystalls_bought)\n",
    "pearson = pearsonr(data.crystalls_bought, data.payment)\n",
    "\n",
    "print(\"Spearman corr = {}, p-value = {}\".format(spear[0], spear[1]))\n",
    "print(\"Kendal corr = {}, p-value = {}\".format(kendal[0], kendal[1]))\n",
    "print(\"Pearson corr = {}, p-value = {}\".format(pearson[0], pearson[1]))"
   ]
  },
  {
   "cell_type": "markdown",
   "metadata": {},
   "source": [
    "Distinguishing of these results may be found in the table above"
   ]
  },
  {
   "cell_type": "markdown",
   "metadata": {},
   "source": [
    "---\n",
    "\n",
    "### Task 3. Partial correlation. Use health_funding.dta file.\n",
    "\n",
    "Calculate paired correlation coefficient between **funding** and **disease** variables. Now calculate the correlation coefficient between the same pair of variables controlling for the number of visits (**visits** variable). Interpret the results of analysis."
   ]
  },
  {
   "cell_type": "code",
   "execution_count": 11,
   "metadata": {},
   "outputs": [
    {
     "data": {
      "text/html": [
       "<div>\n",
       "<style scoped>\n",
       "    .dataframe tbody tr th:only-of-type {\n",
       "        vertical-align: middle;\n",
       "    }\n",
       "\n",
       "    .dataframe tbody tr th {\n",
       "        vertical-align: top;\n",
       "    }\n",
       "\n",
       "    .dataframe thead th {\n",
       "        text-align: right;\n",
       "    }\n",
       "</style>\n",
       "<table border=\"1\" class=\"dataframe\">\n",
       "  <thead>\n",
       "    <tr style=\"text-align: right;\">\n",
       "      <th></th>\n",
       "      <th>funding</th>\n",
       "      <th>disease</th>\n",
       "      <th>visits</th>\n",
       "      <th>citycode</th>\n",
       "    </tr>\n",
       "  </thead>\n",
       "  <tbody>\n",
       "    <tr>\n",
       "      <td>0</td>\n",
       "      <td>155.330002</td>\n",
       "      <td>158.339996</td>\n",
       "      <td>152.130005</td>\n",
       "      <td>6.0</td>\n",
       "    </tr>\n",
       "    <tr>\n",
       "      <td>1</td>\n",
       "      <td>177.339996</td>\n",
       "      <td>157.229996</td>\n",
       "      <td>167.839996</td>\n",
       "      <td>27.0</td>\n",
       "    </tr>\n",
       "    <tr>\n",
       "      <td>2</td>\n",
       "      <td>165.089996</td>\n",
       "      <td>162.919998</td>\n",
       "      <td>162.210007</td>\n",
       "      <td>15.0</td>\n",
       "    </tr>\n",
       "    <tr>\n",
       "      <td>3</td>\n",
       "      <td>154.279999</td>\n",
       "      <td>130.589996</td>\n",
       "      <td>146.690002</td>\n",
       "      <td>4.0</td>\n",
       "    </tr>\n",
       "    <tr>\n",
       "      <td>4</td>\n",
       "      <td>185.559998</td>\n",
       "      <td>202.809998</td>\n",
       "      <td>186.929993</td>\n",
       "      <td>36.0</td>\n",
       "    </tr>\n",
       "    <tr>\n",
       "      <td>5</td>\n",
       "      <td>186.960007</td>\n",
       "      <td>221.429993</td>\n",
       "      <td>188.160004</td>\n",
       "      <td>37.0</td>\n",
       "    </tr>\n",
       "    <tr>\n",
       "      <td>6</td>\n",
       "      <td>198.630005</td>\n",
       "      <td>189.220001</td>\n",
       "      <td>195.389999</td>\n",
       "      <td>49.0</td>\n",
       "    </tr>\n",
       "    <tr>\n",
       "      <td>7</td>\n",
       "      <td>172.139999</td>\n",
       "      <td>166.419998</td>\n",
       "      <td>175.500000</td>\n",
       "      <td>21.0</td>\n",
       "    </tr>\n",
       "    <tr>\n",
       "      <td>8</td>\n",
       "      <td>198.250000</td>\n",
       "      <td>203.070007</td>\n",
       "      <td>197.039993</td>\n",
       "      <td>48.0</td>\n",
       "    </tr>\n",
       "    <tr>\n",
       "      <td>9</td>\n",
       "      <td>193.899994</td>\n",
       "      <td>198.570007</td>\n",
       "      <td>190.160004</td>\n",
       "      <td>44.0</td>\n",
       "    </tr>\n",
       "    <tr>\n",
       "      <td>10</td>\n",
       "      <td>157.029999</td>\n",
       "      <td>161.789993</td>\n",
       "      <td>156.470001</td>\n",
       "      <td>7.0</td>\n",
       "    </tr>\n",
       "    <tr>\n",
       "      <td>11</td>\n",
       "      <td>158.070007</td>\n",
       "      <td>168.820007</td>\n",
       "      <td>159.210007</td>\n",
       "      <td>8.0</td>\n",
       "    </tr>\n",
       "    <tr>\n",
       "      <td>12</td>\n",
       "      <td>182.089996</td>\n",
       "      <td>180.410004</td>\n",
       "      <td>185.649994</td>\n",
       "      <td>32.0</td>\n",
       "    </tr>\n",
       "    <tr>\n",
       "      <td>13</td>\n",
       "      <td>173.199997</td>\n",
       "      <td>178.520004</td>\n",
       "      <td>176.500000</td>\n",
       "      <td>24.0</td>\n",
       "    </tr>\n",
       "    <tr>\n",
       "      <td>14</td>\n",
       "      <td>151.839996</td>\n",
       "      <td>157.770004</td>\n",
       "      <td>156.970001</td>\n",
       "      <td>2.0</td>\n",
       "    </tr>\n",
       "    <tr>\n",
       "      <td>15</td>\n",
       "      <td>182.899994</td>\n",
       "      <td>212.440002</td>\n",
       "      <td>181.619995</td>\n",
       "      <td>33.0</td>\n",
       "    </tr>\n",
       "    <tr>\n",
       "      <td>16</td>\n",
       "      <td>197.089996</td>\n",
       "      <td>198.899994</td>\n",
       "      <td>205.509995</td>\n",
       "      <td>47.0</td>\n",
       "    </tr>\n",
       "    <tr>\n",
       "      <td>17</td>\n",
       "      <td>163.860001</td>\n",
       "      <td>174.250000</td>\n",
       "      <td>167.089996</td>\n",
       "      <td>14.0</td>\n",
       "    </tr>\n",
       "    <tr>\n",
       "      <td>18</td>\n",
       "      <td>192.300003</td>\n",
       "      <td>212.070007</td>\n",
       "      <td>192.710007</td>\n",
       "      <td>43.0</td>\n",
       "    </tr>\n",
       "    <tr>\n",
       "      <td>19</td>\n",
       "      <td>172.029999</td>\n",
       "      <td>149.449997</td>\n",
       "      <td>165.020004</td>\n",
       "      <td>22.0</td>\n",
       "    </tr>\n",
       "    <tr>\n",
       "      <td>20</td>\n",
       "      <td>166.970001</td>\n",
       "      <td>190.350006</td>\n",
       "      <td>162.070007</td>\n",
       "      <td>17.0</td>\n",
       "    </tr>\n",
       "    <tr>\n",
       "      <td>21</td>\n",
       "      <td>187.860001</td>\n",
       "      <td>198.380005</td>\n",
       "      <td>186.160004</td>\n",
       "      <td>38.0</td>\n",
       "    </tr>\n",
       "    <tr>\n",
       "      <td>22</td>\n",
       "      <td>184.229996</td>\n",
       "      <td>172.990005</td>\n",
       "      <td>189.000000</td>\n",
       "      <td>35.0</td>\n",
       "    </tr>\n",
       "    <tr>\n",
       "      <td>23</td>\n",
       "      <td>166.860001</td>\n",
       "      <td>186.809998</td>\n",
       "      <td>166.929993</td>\n",
       "      <td>16.0</td>\n",
       "    </tr>\n",
       "    <tr>\n",
       "      <td>24</td>\n",
       "      <td>174.639999</td>\n",
       "      <td>179.419998</td>\n",
       "      <td>171.449997</td>\n",
       "      <td>25.0</td>\n",
       "    </tr>\n",
       "    <tr>\n",
       "      <td>25</td>\n",
       "      <td>159.500000</td>\n",
       "      <td>148.460007</td>\n",
       "      <td>157.300003</td>\n",
       "      <td>10.0</td>\n",
       "    </tr>\n",
       "    <tr>\n",
       "      <td>26</td>\n",
       "      <td>153.179993</td>\n",
       "      <td>133.639999</td>\n",
       "      <td>150.410004</td>\n",
       "      <td>3.0</td>\n",
       "    </tr>\n",
       "    <tr>\n",
       "      <td>27</td>\n",
       "      <td>169.460007</td>\n",
       "      <td>152.110001</td>\n",
       "      <td>171.179993</td>\n",
       "      <td>19.0</td>\n",
       "    </tr>\n",
       "    <tr>\n",
       "      <td>28</td>\n",
       "      <td>169.899994</td>\n",
       "      <td>183.130005</td>\n",
       "      <td>168.880005</td>\n",
       "      <td>20.0</td>\n",
       "    </tr>\n",
       "    <tr>\n",
       "      <td>29</td>\n",
       "      <td>161.570007</td>\n",
       "      <td>163.320007</td>\n",
       "      <td>151.860001</td>\n",
       "      <td>11.0</td>\n",
       "    </tr>\n",
       "    <tr>\n",
       "      <td>30</td>\n",
       "      <td>183.990005</td>\n",
       "      <td>176.520004</td>\n",
       "      <td>185.029999</td>\n",
       "      <td>34.0</td>\n",
       "    </tr>\n",
       "    <tr>\n",
       "      <td>31</td>\n",
       "      <td>187.979996</td>\n",
       "      <td>178.600006</td>\n",
       "      <td>184.520004</td>\n",
       "      <td>39.0</td>\n",
       "    </tr>\n",
       "    <tr>\n",
       "      <td>32</td>\n",
       "      <td>195.880005</td>\n",
       "      <td>207.619995</td>\n",
       "      <td>197.070007</td>\n",
       "      <td>46.0</td>\n",
       "    </tr>\n",
       "    <tr>\n",
       "      <td>33</td>\n",
       "      <td>154.759995</td>\n",
       "      <td>143.880005</td>\n",
       "      <td>153.740005</td>\n",
       "      <td>5.0</td>\n",
       "    </tr>\n",
       "    <tr>\n",
       "      <td>34</td>\n",
       "      <td>177.600006</td>\n",
       "      <td>159.740005</td>\n",
       "      <td>184.179993</td>\n",
       "      <td>28.0</td>\n",
       "    </tr>\n",
       "    <tr>\n",
       "      <td>35</td>\n",
       "      <td>163.020004</td>\n",
       "      <td>172.059998</td>\n",
       "      <td>155.929993</td>\n",
       "      <td>13.0</td>\n",
       "    </tr>\n",
       "    <tr>\n",
       "      <td>36</td>\n",
       "      <td>190.339996</td>\n",
       "      <td>188.550003</td>\n",
       "      <td>197.910004</td>\n",
       "      <td>41.0</td>\n",
       "    </tr>\n",
       "    <tr>\n",
       "      <td>37</td>\n",
       "      <td>179.270004</td>\n",
       "      <td>202.309998</td>\n",
       "      <td>187.899994</td>\n",
       "      <td>29.0</td>\n",
       "    </tr>\n",
       "    <tr>\n",
       "      <td>38</td>\n",
       "      <td>192.199997</td>\n",
       "      <td>190.160004</td>\n",
       "      <td>194.070007</td>\n",
       "      <td>42.0</td>\n",
       "    </tr>\n",
       "    <tr>\n",
       "      <td>39</td>\n",
       "      <td>181.229996</td>\n",
       "      <td>201.539993</td>\n",
       "      <td>186.679993</td>\n",
       "      <td>31.0</td>\n",
       "    </tr>\n",
       "    <tr>\n",
       "      <td>40</td>\n",
       "      <td>159.410004</td>\n",
       "      <td>153.990005</td>\n",
       "      <td>150.639999</td>\n",
       "      <td>9.0</td>\n",
       "    </tr>\n",
       "    <tr>\n",
       "      <td>41</td>\n",
       "      <td>167.470001</td>\n",
       "      <td>153.990005</td>\n",
       "      <td>164.110001</td>\n",
       "      <td>18.0</td>\n",
       "    </tr>\n",
       "    <tr>\n",
       "      <td>42</td>\n",
       "      <td>151.380005</td>\n",
       "      <td>122.389999</td>\n",
       "      <td>148.320007</td>\n",
       "      <td>1.0</td>\n",
       "    </tr>\n",
       "    <tr>\n",
       "      <td>43</td>\n",
       "      <td>195.559998</td>\n",
       "      <td>184.350006</td>\n",
       "      <td>193.660004</td>\n",
       "      <td>45.0</td>\n",
       "    </tr>\n",
       "    <tr>\n",
       "      <td>44</td>\n",
       "      <td>162.690002</td>\n",
       "      <td>154.440002</td>\n",
       "      <td>162.360001</td>\n",
       "      <td>12.0</td>\n",
       "    </tr>\n",
       "    <tr>\n",
       "      <td>45</td>\n",
       "      <td>173.169998</td>\n",
       "      <td>179.699997</td>\n",
       "      <td>172.699997</td>\n",
       "      <td>23.0</td>\n",
       "    </tr>\n",
       "    <tr>\n",
       "      <td>46</td>\n",
       "      <td>176.520004</td>\n",
       "      <td>167.490005</td>\n",
       "      <td>172.509995</td>\n",
       "      <td>26.0</td>\n",
       "    </tr>\n",
       "    <tr>\n",
       "      <td>47</td>\n",
       "      <td>200.729996</td>\n",
       "      <td>164.539993</td>\n",
       "      <td>196.139999</td>\n",
       "      <td>50.0</td>\n",
       "    </tr>\n",
       "    <tr>\n",
       "      <td>48</td>\n",
       "      <td>190.529999</td>\n",
       "      <td>184.119995</td>\n",
       "      <td>191.100006</td>\n",
       "      <td>40.0</td>\n",
       "    </tr>\n",
       "    <tr>\n",
       "      <td>49</td>\n",
       "      <td>180.119995</td>\n",
       "      <td>178.940002</td>\n",
       "      <td>174.830002</td>\n",
       "      <td>30.0</td>\n",
       "    </tr>\n",
       "  </tbody>\n",
       "</table>\n",
       "</div>"
      ],
      "text/plain": [
       "       funding     disease      visits  citycode\n",
       "0   155.330002  158.339996  152.130005       6.0\n",
       "1   177.339996  157.229996  167.839996      27.0\n",
       "2   165.089996  162.919998  162.210007      15.0\n",
       "3   154.279999  130.589996  146.690002       4.0\n",
       "4   185.559998  202.809998  186.929993      36.0\n",
       "5   186.960007  221.429993  188.160004      37.0\n",
       "6   198.630005  189.220001  195.389999      49.0\n",
       "7   172.139999  166.419998  175.500000      21.0\n",
       "8   198.250000  203.070007  197.039993      48.0\n",
       "9   193.899994  198.570007  190.160004      44.0\n",
       "10  157.029999  161.789993  156.470001       7.0\n",
       "11  158.070007  168.820007  159.210007       8.0\n",
       "12  182.089996  180.410004  185.649994      32.0\n",
       "13  173.199997  178.520004  176.500000      24.0\n",
       "14  151.839996  157.770004  156.970001       2.0\n",
       "15  182.899994  212.440002  181.619995      33.0\n",
       "16  197.089996  198.899994  205.509995      47.0\n",
       "17  163.860001  174.250000  167.089996      14.0\n",
       "18  192.300003  212.070007  192.710007      43.0\n",
       "19  172.029999  149.449997  165.020004      22.0\n",
       "20  166.970001  190.350006  162.070007      17.0\n",
       "21  187.860001  198.380005  186.160004      38.0\n",
       "22  184.229996  172.990005  189.000000      35.0\n",
       "23  166.860001  186.809998  166.929993      16.0\n",
       "24  174.639999  179.419998  171.449997      25.0\n",
       "25  159.500000  148.460007  157.300003      10.0\n",
       "26  153.179993  133.639999  150.410004       3.0\n",
       "27  169.460007  152.110001  171.179993      19.0\n",
       "28  169.899994  183.130005  168.880005      20.0\n",
       "29  161.570007  163.320007  151.860001      11.0\n",
       "30  183.990005  176.520004  185.029999      34.0\n",
       "31  187.979996  178.600006  184.520004      39.0\n",
       "32  195.880005  207.619995  197.070007      46.0\n",
       "33  154.759995  143.880005  153.740005       5.0\n",
       "34  177.600006  159.740005  184.179993      28.0\n",
       "35  163.020004  172.059998  155.929993      13.0\n",
       "36  190.339996  188.550003  197.910004      41.0\n",
       "37  179.270004  202.309998  187.899994      29.0\n",
       "38  192.199997  190.160004  194.070007      42.0\n",
       "39  181.229996  201.539993  186.679993      31.0\n",
       "40  159.410004  153.990005  150.639999       9.0\n",
       "41  167.470001  153.990005  164.110001      18.0\n",
       "42  151.380005  122.389999  148.320007       1.0\n",
       "43  195.559998  184.350006  193.660004      45.0\n",
       "44  162.690002  154.440002  162.360001      12.0\n",
       "45  173.169998  179.699997  172.699997      23.0\n",
       "46  176.520004  167.490005  172.509995      26.0\n",
       "47  200.729996  164.539993  196.139999      50.0\n",
       "48  190.529999  184.119995  191.100006      40.0\n",
       "49  180.119995  178.940002  174.830002      30.0"
      ]
     },
     "execution_count": 11,
     "metadata": {},
     "output_type": "execute_result"
    }
   ],
   "source": [
    "data = pd.read_stata('data/health_funding.dta')\n",
    "data"
   ]
  },
  {
   "cell_type": "code",
   "execution_count": 12,
   "metadata": {},
   "outputs": [
    {
     "name": "stdout",
     "output_type": "stream",
     "text": [
      "Pearsons correlation between funding and disease: 0.73708715607246\n",
      "Pearsons correlation between funding and disease controlling the number of visits: pearson    0.013\n",
      "Name: r, dtype: float64\n"
     ]
    }
   ],
   "source": [
    "import pingouin as pg\n",
    "\n",
    "partial_correlation = pearsonr(data.funding, data.disease)[0]\n",
    "print('Pearsons correlation between funding and disease: {}'.format(partial_correlation))\n",
    "\n",
    "partial_correlation_with_control = pg.partial_corr(data=data, x='funding', y='disease', covar=['visits']).r\n",
    "print('Pearsons correlation between funding and disease controlling the number of visits: {}'.format(partial_correlation_with_control))"
   ]
  },
  {
   "cell_type": "markdown",
   "metadata": {},
   "source": [
    "---\n",
    "\n",
    "### Task 4. T-tests and Nonparametric tests.\n",
    "\n",
    "**4.1.** Use **auto.dta** file (example datasets). Select an appropriate test to check if there is a difference in the mean length of foreign and non-foreign cars. Explain you selection. Formulate the hypotheses. Interpret the results of analysis. "
   ]
  },
  {
   "cell_type": "code",
   "execution_count": 13,
   "metadata": {},
   "outputs": [
    {
     "data": {
      "text/html": [
       "<div>\n",
       "<style scoped>\n",
       "    .dataframe tbody tr th:only-of-type {\n",
       "        vertical-align: middle;\n",
       "    }\n",
       "\n",
       "    .dataframe tbody tr th {\n",
       "        vertical-align: top;\n",
       "    }\n",
       "\n",
       "    .dataframe thead th {\n",
       "        text-align: right;\n",
       "    }\n",
       "</style>\n",
       "<table border=\"1\" class=\"dataframe\">\n",
       "  <thead>\n",
       "    <tr style=\"text-align: right;\">\n",
       "      <th></th>\n",
       "      <th>make</th>\n",
       "      <th>price</th>\n",
       "      <th>mpg</th>\n",
       "      <th>rep78</th>\n",
       "      <th>headroom</th>\n",
       "      <th>trunk</th>\n",
       "      <th>weight</th>\n",
       "      <th>length</th>\n",
       "      <th>turn</th>\n",
       "      <th>displacement</th>\n",
       "      <th>gear_ratio</th>\n",
       "      <th>foreign</th>\n",
       "    </tr>\n",
       "  </thead>\n",
       "  <tbody>\n",
       "    <tr>\n",
       "      <td>0</td>\n",
       "      <td>AMC Concord</td>\n",
       "      <td>4099</td>\n",
       "      <td>22</td>\n",
       "      <td>3.0</td>\n",
       "      <td>2.5</td>\n",
       "      <td>11</td>\n",
       "      <td>2930</td>\n",
       "      <td>186</td>\n",
       "      <td>40</td>\n",
       "      <td>121</td>\n",
       "      <td>3.58</td>\n",
       "      <td>Domestic</td>\n",
       "    </tr>\n",
       "    <tr>\n",
       "      <td>1</td>\n",
       "      <td>AMC Pacer</td>\n",
       "      <td>4749</td>\n",
       "      <td>17</td>\n",
       "      <td>3.0</td>\n",
       "      <td>3.0</td>\n",
       "      <td>11</td>\n",
       "      <td>3350</td>\n",
       "      <td>173</td>\n",
       "      <td>40</td>\n",
       "      <td>258</td>\n",
       "      <td>2.53</td>\n",
       "      <td>Domestic</td>\n",
       "    </tr>\n",
       "    <tr>\n",
       "      <td>2</td>\n",
       "      <td>AMC Spirit</td>\n",
       "      <td>3799</td>\n",
       "      <td>22</td>\n",
       "      <td>NaN</td>\n",
       "      <td>3.0</td>\n",
       "      <td>12</td>\n",
       "      <td>2640</td>\n",
       "      <td>168</td>\n",
       "      <td>35</td>\n",
       "      <td>121</td>\n",
       "      <td>3.08</td>\n",
       "      <td>Domestic</td>\n",
       "    </tr>\n",
       "    <tr>\n",
       "      <td>3</td>\n",
       "      <td>Buick Century</td>\n",
       "      <td>4816</td>\n",
       "      <td>20</td>\n",
       "      <td>3.0</td>\n",
       "      <td>4.5</td>\n",
       "      <td>16</td>\n",
       "      <td>3250</td>\n",
       "      <td>196</td>\n",
       "      <td>40</td>\n",
       "      <td>196</td>\n",
       "      <td>2.93</td>\n",
       "      <td>Domestic</td>\n",
       "    </tr>\n",
       "    <tr>\n",
       "      <td>4</td>\n",
       "      <td>Buick Electra</td>\n",
       "      <td>7827</td>\n",
       "      <td>15</td>\n",
       "      <td>4.0</td>\n",
       "      <td>4.0</td>\n",
       "      <td>20</td>\n",
       "      <td>4080</td>\n",
       "      <td>222</td>\n",
       "      <td>43</td>\n",
       "      <td>350</td>\n",
       "      <td>2.41</td>\n",
       "      <td>Domestic</td>\n",
       "    </tr>\n",
       "    <tr>\n",
       "      <td>...</td>\n",
       "      <td>...</td>\n",
       "      <td>...</td>\n",
       "      <td>...</td>\n",
       "      <td>...</td>\n",
       "      <td>...</td>\n",
       "      <td>...</td>\n",
       "      <td>...</td>\n",
       "      <td>...</td>\n",
       "      <td>...</td>\n",
       "      <td>...</td>\n",
       "      <td>...</td>\n",
       "      <td>...</td>\n",
       "    </tr>\n",
       "    <tr>\n",
       "      <td>69</td>\n",
       "      <td>VW Dasher</td>\n",
       "      <td>7140</td>\n",
       "      <td>23</td>\n",
       "      <td>4.0</td>\n",
       "      <td>2.5</td>\n",
       "      <td>12</td>\n",
       "      <td>2160</td>\n",
       "      <td>172</td>\n",
       "      <td>36</td>\n",
       "      <td>97</td>\n",
       "      <td>3.74</td>\n",
       "      <td>Foreign</td>\n",
       "    </tr>\n",
       "    <tr>\n",
       "      <td>70</td>\n",
       "      <td>VW Diesel</td>\n",
       "      <td>5397</td>\n",
       "      <td>41</td>\n",
       "      <td>5.0</td>\n",
       "      <td>3.0</td>\n",
       "      <td>15</td>\n",
       "      <td>2040</td>\n",
       "      <td>155</td>\n",
       "      <td>35</td>\n",
       "      <td>90</td>\n",
       "      <td>3.78</td>\n",
       "      <td>Foreign</td>\n",
       "    </tr>\n",
       "    <tr>\n",
       "      <td>71</td>\n",
       "      <td>VW Rabbit</td>\n",
       "      <td>4697</td>\n",
       "      <td>25</td>\n",
       "      <td>4.0</td>\n",
       "      <td>3.0</td>\n",
       "      <td>15</td>\n",
       "      <td>1930</td>\n",
       "      <td>155</td>\n",
       "      <td>35</td>\n",
       "      <td>89</td>\n",
       "      <td>3.78</td>\n",
       "      <td>Foreign</td>\n",
       "    </tr>\n",
       "    <tr>\n",
       "      <td>72</td>\n",
       "      <td>VW Scirocco</td>\n",
       "      <td>6850</td>\n",
       "      <td>25</td>\n",
       "      <td>4.0</td>\n",
       "      <td>2.0</td>\n",
       "      <td>16</td>\n",
       "      <td>1990</td>\n",
       "      <td>156</td>\n",
       "      <td>36</td>\n",
       "      <td>97</td>\n",
       "      <td>3.78</td>\n",
       "      <td>Foreign</td>\n",
       "    </tr>\n",
       "    <tr>\n",
       "      <td>73</td>\n",
       "      <td>Volvo 260</td>\n",
       "      <td>11995</td>\n",
       "      <td>17</td>\n",
       "      <td>5.0</td>\n",
       "      <td>2.5</td>\n",
       "      <td>14</td>\n",
       "      <td>3170</td>\n",
       "      <td>193</td>\n",
       "      <td>37</td>\n",
       "      <td>163</td>\n",
       "      <td>2.98</td>\n",
       "      <td>Foreign</td>\n",
       "    </tr>\n",
       "  </tbody>\n",
       "</table>\n",
       "<p>74 rows × 12 columns</p>\n",
       "</div>"
      ],
      "text/plain": [
       "             make  price  mpg  rep78  headroom  trunk  weight  length  turn  \\\n",
       "0     AMC Concord   4099   22    3.0       2.5     11    2930     186    40   \n",
       "1       AMC Pacer   4749   17    3.0       3.0     11    3350     173    40   \n",
       "2      AMC Spirit   3799   22    NaN       3.0     12    2640     168    35   \n",
       "3   Buick Century   4816   20    3.0       4.5     16    3250     196    40   \n",
       "4   Buick Electra   7827   15    4.0       4.0     20    4080     222    43   \n",
       "..            ...    ...  ...    ...       ...    ...     ...     ...   ...   \n",
       "69      VW Dasher   7140   23    4.0       2.5     12    2160     172    36   \n",
       "70      VW Diesel   5397   41    5.0       3.0     15    2040     155    35   \n",
       "71      VW Rabbit   4697   25    4.0       3.0     15    1930     155    35   \n",
       "72    VW Scirocco   6850   25    4.0       2.0     16    1990     156    36   \n",
       "73      Volvo 260  11995   17    5.0       2.5     14    3170     193    37   \n",
       "\n",
       "    displacement  gear_ratio   foreign  \n",
       "0            121        3.58  Domestic  \n",
       "1            258        2.53  Domestic  \n",
       "2            121        3.08  Domestic  \n",
       "3            196        2.93  Domestic  \n",
       "4            350        2.41  Domestic  \n",
       "..           ...         ...       ...  \n",
       "69            97        3.74   Foreign  \n",
       "70            90        3.78   Foreign  \n",
       "71            89        3.78   Foreign  \n",
       "72            97        3.78   Foreign  \n",
       "73           163        2.98   Foreign  \n",
       "\n",
       "[74 rows x 12 columns]"
      ]
     },
     "execution_count": 13,
     "metadata": {},
     "output_type": "execute_result"
    }
   ],
   "source": [
    "data = pd.read_stata('data/auto.dta')\n",
    "data"
   ]
  },
  {
   "cell_type": "code",
   "execution_count": 14,
   "metadata": {},
   "outputs": [
    {
     "data": {
      "text/plain": [
       "[Domestic, Foreign]\n",
       "Categories (2, object): [Domestic < Foreign]"
      ]
     },
     "execution_count": 14,
     "metadata": {},
     "output_type": "execute_result"
    }
   ],
   "source": [
    "data.foreign.unique()"
   ]
  },
  {
   "cell_type": "markdown",
   "metadata": {},
   "source": [
    "Since there are only 2 categorical variables, we can apply a two-sided t-test for the null hypothesis that 2 independent samples have identical average (expected) values"
   ]
  },
  {
   "cell_type": "code",
   "execution_count": 15,
   "metadata": {},
   "outputs": [
    {
     "name": "stdout",
     "output_type": "stream",
     "text": [
      "T-test stat: 5.88952204179086, p-value: 1.1384851762016045e-07\n",
      "Reject H0. The mean length of foreign and non-foreign cars are not the same\n"
     ]
    }
   ],
   "source": [
    "from scipy.stats import ttest_ind\n",
    "\n",
    "t_test_stat, p_value = ttest_ind(data[data.foreign == 'Domestic'].length, data[data.foreign == 'Foreign'].length)\n",
    "print('T-test stat: {}, p-value: {}'.format(t_test_stat, p_value))\n",
    "\n",
    "alpha = 0.05\n",
    "if p_value <= alpha:\n",
    "    print('Reject H0. The mean length of foreign and non-foreign cars are not the same')\n",
    "else:\n",
    "    print('Do not reject H0. The mean length of foreign and non-foreign cars are the same')"
   ]
  },
  {
   "cell_type": "markdown",
   "metadata": {},
   "source": [
    "**4.2.** Use **data_games.dta** file. Select an appropriate test to understand whether there is a difference in payments between the people who have used different payment types. Explain you selection. Formulate the hypotheses. Interpret the results of analysis. "
   ]
  },
  {
   "cell_type": "code",
   "execution_count": 21,
   "metadata": {},
   "outputs": [
    {
     "data": {
      "text/plain": [
       "[offer, regular]\n",
       "Categories (2, object): [offer < regular]"
      ]
     },
     "execution_count": 21,
     "metadata": {},
     "output_type": "execute_result"
    }
   ],
   "source": [
    "data = pd.read_stata(\"data/data_games.dta\")\n",
    "data.payment_type.unique()"
   ]
  },
  {
   "cell_type": "markdown",
   "metadata": {},
   "source": [
    "Since there are only 2 categorical variables, we can apply a two-sided t-test for the null hypothesis that 2 independent samples have identical average (expected) values"
   ]
  },
  {
   "cell_type": "code",
   "execution_count": 22,
   "metadata": {},
   "outputs": [
    {
     "name": "stdout",
     "output_type": "stream",
     "text": [
      "T-test stat: 2.9069783585108384, p-value: 0.003650143931138443\n",
      "Reject H0. There is a difference in payments between the people who have used different payment types\n"
     ]
    }
   ],
   "source": [
    "t_test_stat, p_value = ttest_ind(data[data.payment_type == 'offer'].payment, data[data.payment_type == 'regular'].payment)\n",
    "print('T-test stat: {}, p-value: {}'.format(t_test_stat, p_value))\n",
    "\n",
    "alpha = 0.05\n",
    "if p_value <= alpha:\n",
    "    print('Reject H0. There is a difference in payments between the people who have used different payment types')\n",
    "else:\n",
    "    print('Do not reject H0. There is no difference in payments between the people who have used different payment types')"
   ]
  },
  {
   "cell_type": "markdown",
   "metadata": {},
   "source": [
    "**4.3.** Use **data_games.dta** file. Select an appropriate test to understand whether there is a difference in payments between the people who have used different payment methods. Explain you selection. Formulate the hypotheses. Interpret the results of analysis."
   ]
  },
  {
   "cell_type": "code",
   "execution_count": 23,
   "metadata": {},
   "outputs": [
    {
     "data": {
      "text/plain": [
       "[general, mobile, fb_promotion, giftcard]\n",
       "Categories (4, object): [fb_promotion < general < giftcard < mobile]"
      ]
     },
     "execution_count": 23,
     "metadata": {},
     "output_type": "execute_result"
    }
   ],
   "source": [
    "data.payment_method.unique()"
   ]
  },
  {
   "cell_type": "markdown",
   "metadata": {},
   "source": [
    "Since there are 4 values for categorical variable `payment_method`, we can apply Kruskal-Wallis H-test tests the null hypothesis that the population median of all of the groups are equal"
   ]
  },
  {
   "cell_type": "code",
   "execution_count": 24,
   "metadata": {},
   "outputs": [
    {
     "name": "stdout",
     "output_type": "stream",
     "text": [
      "Kruskal-Wallis-test stat: -2355820.8772698985, p-value: 1.0\n",
      "Do not reject H0. There is no difference in payments between the people who have used different payment methods\n"
     ]
    }
   ],
   "source": [
    "from scipy.stats import kruskal\n",
    "\n",
    "kruskal_stat, p_value = kruskal(data[data.payment_method == 'fb_promotion'].payment,\n",
    "                                data[data.payment_method == 'general'].payment,\n",
    "                                data[data.payment_method == 'giftcard'].payment,\n",
    "                                data[data.payment_method == 'mobile'].payment)\n",
    "print('Kruskal-Wallis-test stat: {}, p-value: {}'.format(kruskal_stat, p_value))\n",
    "\n",
    "alpha = 0.05\n",
    "if p_value <= alpha:\n",
    "    print('Reject H0. There is a difference in payments between the people who have used different payment methods')\n",
    "else:\n",
    "    print('Do not reject H0. There is no difference in payments between the people who have used different payment methods')\n"
   ]
  },
  {
   "cell_type": "code",
   "execution_count": null,
   "metadata": {},
   "outputs": [],
   "source": []
  }
 ],
 "metadata": {
  "kernelspec": {
   "display_name": "Python 3",
   "language": "python",
   "name": "python3"
  },
  "language_info": {
   "codemirror_mode": {
    "name": "ipython",
    "version": 3
   },
   "file_extension": ".py",
   "mimetype": "text/x-python",
   "name": "python",
   "nbconvert_exporter": "python",
   "pygments_lexer": "ipython3",
   "version": "3.7.4"
  }
 },
 "nbformat": 4,
 "nbformat_minor": 2
}
